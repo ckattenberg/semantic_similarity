{
 "cells": [
  {
   "cell_type": "markdown",
   "metadata": {},
   "source": [
    "# Introduction\n",
    "This notebook serves as an example for the process of the analysis of semantic similarity. Semantic similarity requires not simply comparing text, but comparing what the text is supposed to mean. Even people can have disagreements over this, so computing something that abstract is a complex task.\n",
    "\n",
    "A concept of vital importance is text embedding. Text is relatively hard to compare; comparing numbers is significantly faster than comparing strings, the latter possibly requiring iterating over each character to check it. Transforming the text into a numerical representation brings a lot of efficiency, and is an important first step. There are multiple ways to go about this.\n",
    "\n",
    "The simplest way is called \\textit{bag of words}. The entire vocabulary of the library of text we want to compare is numerically allocated; each word is given an entry in a simple lookup table. A sentence can then be vectorized, each vector being the same length as the lookup table, and each index holding the count of how often the word assigned that number appears in the sentence. Comparing these vectors then essentially compares the overlap between words used in sentences, assuming that the same words lead to the same meanings.\n",
    "\n",
    "Of course, as the 'bag' implies, we lose order, a very important part of semantic meaning. Additionally, words may be functionally similar, but be different counts; two sentences each using different synonyms would be very different in this theory. 'Greater' could be stemmed to 'great', but the same is harder for 'better' and 'good'. What about 'terrific' and 'great'? We could look up synonyms for each word, but this quickly becomes very inefficient. Then there's the question of how relevant a word is; a 'I have a good book' is very different from a 'I have a good car', after all, despite being 80% \"similar\".\n",
    "\n",
    "This relevancy problem can be diminished using TFIDF, or term frequency–inverse document frequency, to introduce a weighting. The more often a term shows up in a document, which is any arbitrary amount of text, the more relevant it is. The more documents that term shows up in, however, the less relevant. The sentences above may be reduced to 'good book' and 'good car', for example, based on the exact implementation. \n",
    "\n",
    "A more complex solution is to use a continuous bag of words such as described in the Word2Vec model as originally patented by Google, an implementation of which exists in the open source Gensim package. The concept is similar to a normal bag of words, but instead of each word apart, we look at the surrounding words. Each word is paired with its surroundings, creating a structure that allows for the prediction of words: using the above sentences again, 'good' can predict 'a', 'book', or 'car'. Then, TFIDF could be applied to determine the odds of predicting each word, or these weights can be determined more accurately using a neural network, as described in the original article. The Gensim package uses the latter method. The (abstracted) weights can be vectorized, and these are then used much like the simpler embedding can be.\n",
    "\n",
    "To compare sentences, the embedded word vector can be taken for each word in the sentence, taking the average. Two averaged vectors can then be compared to determine how similar they are. This solves the relevancy and synonym problems, but does not preserve order; some context from sentence structure is lost. An expansion on the Word2Vec method, the Doc2Vec method, designed by the same authors, proposes to solve this by taking the word vectors in a document, and adding a 'phantom word'; the resulting so called document vector is then unique for that document, in an attempt to remember or at least account for the entire document context. This also has an implementation built in Gensim.\n",
    "\n",
    "How long the resulting vector is, depends on the implementation. The Gensim implementations use a vector size of 100 by default. Larger vectors can capture more details, but make computation more expensive. In our case, 100 was an apt choice \n",
    "\n",
    "In the next cell, we load versions of these three models trained on the data provided to us, to show their capability. Additionally, a pretrained Google model known as the Universal Sentence Encoder will be shown."
   ]
  },
  {
   "cell_type": "markdown",
   "metadata": {},
   "source": [
    "# Embedding Models"
   ]
  },
  {
   "cell_type": "code",
   "execution_count": 8,
   "metadata": {},
   "outputs": [],
   "source": [
    "from gensim.models import word2vec, doc2vec\n",
    "from embed import universal_sentence_encoder as use_model\n",
    "\n",
    "\n",
    "# Load the pretrained models\n",
    "w2v_model = word2vec.Word2Vec.load(\"models/w2vmodel.mod\")\n",
    "d2v_model = doc2vec.Doc2Vec.load(\"models/doc2vec.model\")\n",
    "# tfidf model?\n"
   ]
  },
  {
   "cell_type": "markdown",
   "metadata": {},
   "source": [
    "# Classification\n",
    "\n",
    "The above models and instruction clarify how to embed text, acquiring vectors for the relevant documents. It mentions comparing these vectors, but not exactly how. There are, again, multiple ways to do this. The simplest way is to calculate the cosine similarity between them, essentially imagining we have position vectors, and checking the angle between them. This is relatively easy to compute, intuitive, and gives a result between 0 and 1, making it very easy to use; set or train a proper threshold, and if the cosine similarity is above that threshold, the sentences carry the same semantic intent.\n",
    "\n",
    "A complexer but significantly more accurate way of comparing is through the use of a neural network. Starting with more-or-less random predictions, the correct answers are used to calculate how wrong the network's prediction was, which is then used to update it, improving the next prediction. Through repetition, the network thus learns how to tell which vectors are supposed to be 'similar', learning to classify them. We implemented a relatively simple neural network, that takes as input two concatenated vectors; the two sentence vectors we want to compare. One hidden layer, of equal size to the input layer, with as activation function the rectified linear activation function, and finally a sigmoid function for the output layer of size 1. This output is simply a 0 or 1, signifying whether the sentences are the same or not.\n",
    "\n",
    "The training of this second method is rather computationally expensive, though training doesn't necessarily have happen more than once. However, it also requires a large amount of annotated data; a large list of sentence combinations of which it is known if they are semantically the same or not. Additionally, this data should be very varied, as scenarios not adequately present in the training data will be hard to predict. This data being accurate is also of vital importance for accuracy, meaning it will have to be done, or at least verified, by hand. Our data consisted of about 400000 pairs of questions, meaning the network is likely to be better at classifying questions than other sentence structures. While this machine learning is not applicable in every situation, the prerequisites are something to keep in mind.\n",
    "\n",
    "Below we load our pretrained model, after which the requirements for analysis are present, and some examples can be run."
   ]
  },
  {
   "cell_type": "markdown",
   "metadata": {},
   "source": [
    "# Neural Network"
   ]
  },
  {
   "cell_type": "code",
   "execution_count": 12,
   "metadata": {},
   "outputs": [
    {
     "name": "stdout",
     "output_type": "stream",
     "text": [
      "tf.Tensor(\n",
      "[ 0.08101482 -0.2019411  -0.01571975  0.14588054  0.0861248  -0.00461761\n",
      "  0.13665743 -0.08589698  0.06596185  0.15349     0.06258003  0.0618754\n",
      "  0.00780827  0.02202326  0.00156243 -0.13307479 -0.05229007  0.11145592\n",
      "  0.03328857 -0.00193182  0.05196795 -0.04891817  0.10904198  0.12596294\n",
      "  0.06784732  0.05713417  0.0007825   0.06168942 -0.00151605  0.00711261\n",
      " -0.01023459  0.11996448  0.07660645 -0.07809665  0.07484739 -0.07300623\n",
      "  0.07918902 -0.10433002  0.08221419  0.069256    0.08242436 -0.06219982\n",
      "  0.02070184  0.07483666  0.19298664 -0.07806981 -0.02932242 -0.09839576\n",
      "  0.13108103  0.04633947 -0.06870607  0.21059522  0.10954858 -0.02387153\n",
      " -0.00523979  0.05046488 -0.10549062 -0.08490714 -0.10892796 -0.01983385\n",
      " -0.10960896 -0.00747574 -0.03746359 -0.08899061  0.15564816 -0.20212987\n",
      " -0.03029954 -0.06273824  0.00751871 -0.04651058  0.03027163 -0.06498927\n",
      "  0.04003879 -0.00468695 -0.02704884  0.01310218 -0.0405383  -0.03496305\n",
      " -0.11583926  0.14845836  0.03391928 -0.01718519  0.12385716  0.12666914\n",
      "  0.04331537 -0.04097026 -0.00931502  0.13011624 -0.03055791  0.0332468\n",
      " -0.05514418  0.14000984 -0.00750698  0.03932603 -0.03951449  0.05473729\n",
      " -0.02073648  0.07319371 -0.14287624 -0.12063079 -0.02766068  0.00782494\n",
      "  0.18001398  0.01016249  0.0835155   0.03764106 -0.09896747  0.0059368\n",
      "  0.05461946  0.0122267  -0.01210044 -0.05108215  0.02488471  0.01992098\n",
      " -0.00407558  0.10022786  0.04346496 -0.09964211 -0.00299434  0.00447311\n",
      "  0.13348463  0.00985124  0.01079573  0.01061566 -0.09786772  0.01247612\n",
      " -0.03699937 -0.06256983  0.03899571  0.08043621  0.0513203  -0.0790373\n",
      " -0.00292471 -0.04250833 -0.01804691  0.02188854 -0.05458698 -0.06552373\n",
      " -0.12395628 -0.11197469 -0.05624996 -0.06514993  0.14279732  0.0622761\n",
      "  0.05706626  0.07666325  0.07345447  0.03087406  0.01163897 -0.05701651\n",
      " -0.08364648  0.19940586 -0.12165106  0.08502331 -0.04309677  0.01219182\n",
      "  0.05744774  0.05488649  0.12369239  0.12488531 -0.1057766   0.03552595\n",
      "  0.04898082 -0.05997317 -0.06420476  0.03709811 -0.06658605 -0.02004803\n",
      " -0.04319572  0.01074657 -0.04473797  0.10732015  0.15019998  0.05424844\n",
      "  0.04196185 -0.0450496  -0.03242072 -0.09640832  0.00266625  0.13811336\n",
      "  0.07369828  0.05400536  0.04347932  0.11888239  0.02286896 -0.061266\n",
      " -0.02654099  0.20484471  0.04174704 -0.05822895  0.09880012  0.05339177\n",
      " -0.04637618  0.17053118 -0.01609526  0.04415421 -0.12640685  0.2008834\n",
      "  0.06033386  0.01239118 -0.11993025 -0.07475282 -0.04586704 -0.08768061\n",
      "  0.03789111 -0.09756227 -0.03236237  0.16495429 -0.02147665 -0.1211527\n",
      " -0.04151735 -0.0559589   0.04551894  0.05524474  0.0789254  -0.00391116\n",
      " -0.0314909  -0.12556548  0.07882343  0.07599102  0.00863297  0.13710083\n",
      "  0.05507241  0.00960831 -0.00403237 -0.06052434 -0.12277912  0.03411937\n",
      "  0.10637057  0.01958215  0.04870475  0.10054611  0.1181951   0.08589082\n",
      "  0.02081995 -0.1564823   0.19606978 -0.02740449  0.04333076  0.05122725\n",
      " -0.16218504  0.0778223  -0.17757444  0.13258937  0.10653342  0.04286157\n",
      "  0.00305441  0.08505356 -0.00581826  0.09030175  0.07844742 -0.03764104\n",
      " -0.03093102  0.06252515  0.15038204 -0.10565109 -0.12185568  0.00161077\n",
      " -0.08089808 -0.05435415 -0.12895131 -0.01988917 -0.12108517  0.0056559\n",
      " -0.04161246  0.0020202   0.052388   -0.13011532  0.03875827  0.08915328\n",
      " -0.00614149 -0.15485838 -0.01127611 -0.08079415 -0.02510302  0.00502001\n",
      " -0.07888857 -0.08792818  0.13600132  0.01721922 -0.02047441 -0.05830681\n",
      " -0.1093962   0.01893575 -0.02594564  0.00071252  0.00153105  0.15878314\n",
      " -0.08057907 -0.05967014  0.07265295  0.07592566  0.02926459 -0.10339737\n",
      "  0.03538402  0.11010095 -0.03896721  0.01593944 -0.00945352 -0.0325552\n",
      " -0.04412005 -0.0507295   0.00836001 -0.04111947 -0.04111119 -0.01185547\n",
      " -0.03535563 -0.03754865 -0.00964694  0.05474169 -0.18842745  0.06617384\n",
      " -0.02571441 -0.04030795  0.14908439  0.01105928 -0.09434736  0.08685487\n",
      "  0.04457269  0.15076461 -0.018481   -0.10064878  0.10565597  0.06228926\n",
      " -0.01658888 -0.07317626 -0.05657722  0.05903983  0.09791566  0.12319024\n",
      "  0.08748227 -0.07051728 -0.03208723  0.13211733 -0.07505951  0.05929241\n",
      " -0.02626686  0.10503574 -0.00311405 -0.10588294  0.11480115  0.01254849\n",
      "  0.07533623  0.03685498 -0.21207781  0.00423472  0.02045869 -0.07864715\n",
      "  0.01287441  0.00576729 -0.0367487  -0.0768445   0.1735941  -0.08405538\n",
      "  0.01495837  0.08373077 -0.20869365 -0.11741451 -0.02660038 -0.03962296\n",
      " -0.1323733   0.06054646 -0.13425176  0.04358839 -0.09239254 -0.15291095\n",
      " -0.09615824 -0.07299128  0.02848207 -0.07051839  0.00495779  0.0225046\n",
      " -0.01982649  0.1972591   0.08222653 -0.07216878  0.1115353  -0.04758868\n",
      "  0.09297041 -0.00567144  0.10199244  0.03368178  0.04142092 -0.04986082\n",
      "  0.11129613  0.00076742  0.00568136  0.0207129   0.07825804  0.01083215\n",
      " -0.02559005  0.01851435 -0.07511394 -0.13732514  0.06401031 -0.04911533\n",
      " -0.02819394 -0.04540716 -0.11204869  0.10793915 -0.08106817  0.03510936\n",
      " -0.10059625  0.07234173  0.00525882  0.07488191 -0.04885535  0.02589578\n",
      " -0.03415553  0.06121118 -0.05327332  0.01680868 -0.01130404  0.00903071\n",
      " -0.03756729  0.01565895 -0.18903893  0.15344866  0.04224291 -0.05715062\n",
      " -0.04118072 -0.10101418 -0.06658787 -0.07743504 -0.04657385 -0.04680746\n",
      " -0.0038612   0.13822344  0.07269202  0.0292288  -0.07748367 -0.02940246\n",
      "  0.07564557  0.08742627 -0.08567607  0.06114242 -0.04010374  0.11516746\n",
      "  0.02412841  0.09539756 -0.03897498 -0.1299155   0.10069841  0.03986679\n",
      "  0.03064728  0.04514862 -0.08331063  0.03269652 -0.00334164 -0.06104387\n",
      " -0.12818389 -0.03714157 -0.18948267 -0.04117199 -0.01199584 -0.16805641\n",
      " -0.07617491 -0.0925246   0.02495474  0.12006031 -0.04362924 -0.01448357\n",
      " -0.07072729 -0.10933255  0.09477675 -0.13307849  0.07627796 -0.12872306\n",
      "  0.05898315  0.0732021  -0.11436774  0.00514614  0.15147582 -0.04095879\n",
      "  0.21056764 -0.01748136 -0.04346317  0.05199414 -0.12485248 -0.19185239\n",
      " -0.06334069  0.01177773  0.0629369   0.14747532 -0.0443152   0.00081375\n",
      " -0.18262832  0.02921116  0.01910469 -0.11050338  0.02160292 -0.07647443\n",
      "  0.03658037 -0.10258888 -0.07679522 -0.14601287  0.10020413  0.02838323\n",
      "  0.01508452 -0.00806266  0.13210385 -0.03546979  0.09320364  0.05881285\n",
      " -0.00550114 -0.003637    0.06557523  0.12087117  0.07162988 -0.15069355\n",
      " -0.01568544 -0.12380427], shape=(512,), dtype=float32)\n"
     ]
    }
   ],
   "source": [
    "from tensorflow import keras\n",
    "from classifiers import binaryclassification as bc\n",
    "from embed import doc2vec\n",
    "\n",
    "# model = keras.models.load_model('models/...')\n",
    "\n",
    "sentence1 = \"Is X the same as Y?\"\n",
    "sentence2 = \"When is X the same as Y?\"\n",
    "\n",
    "w2v_vector = bc.vectorize_w2v(w2v_model.wv, sentence1, sentence2)\n",
    "d2v_vector = doc2vec.doc2vec(d2v_model, [sentence1], [sentence2])\n",
    "use_vector = use_model.encode(sentence1) + use_model.encode(sentence2)\n"
   ]
  },
  {
   "cell_type": "code",
   "execution_count": null,
   "metadata": {},
   "outputs": [],
   "source": [
    "print(\"W2V says: \", model_w2v.predict(w2v_vector))\n",
    "print(\"W2V says: \", model_d2v.predict(d2v_vector))\n",
    "print(\"W2V says: \", model_tfidf.predict(tfidf_vector))\n",
    "print(\"W2V says: \", model_use.predict(use_vector))"
   ]
  }
 ],
 "metadata": {
  "kernelspec": {
   "display_name": "Python 3",
   "language": "python",
   "name": "python3"
  },
  "language_info": {
   "codemirror_mode": {
    "name": "ipython",
    "version": 3
   },
   "file_extension": ".py",
   "mimetype": "text/x-python",
   "name": "python",
   "nbconvert_exporter": "python",
   "pygments_lexer": "ipython3",
   "version": "3.8.5"
  }
 },
 "nbformat": 4,
 "nbformat_minor": 4
}
